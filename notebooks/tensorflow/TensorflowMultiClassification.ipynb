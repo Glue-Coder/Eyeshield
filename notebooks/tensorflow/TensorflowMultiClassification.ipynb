{
  "nbformat": 4,
  "nbformat_minor": 0,
  "metadata": {
    "colab": {
      "provenance": [],
      "collapsed_sections": [],
      "authorship_tag": "ABX9TyNOyy7Bc1EbP60vd/r46A7x"
    },
    "kernelspec": {
      "name": "python3",
      "display_name": "Python 3"
    },
    "language_info": {
      "name": "python"
    },
    "accelerator": "GPU"
  },
  "cells": [
    {
      "cell_type": "markdown",
      "source": [
        "# GPU implementation of convolutional neural network for trivial multi-classification problem with TensorFlow"
      ],
      "metadata": {
        "id": "KcViPaA3o6br"
      }
    },
    {
      "cell_type": "code",
      "execution_count": 1,
      "metadata": {
        "id": "vHW5JkYUolP5"
      },
      "outputs": [],
      "source": [
        "import tensorflow as tf \n",
        "import numpy as np \n",
        "import matplotlib.pyplot as plt \n",
        "%matplotlib inline\n",
        "import seaborn as sn\n",
        "import os; os.environ['TF_CPP_MIN_LOG_LEVEL'] = '1'\n",
        "import cv2 "
      ]
    },
    {
      "cell_type": "markdown",
      "source": [
        "### Upload the dataset"
      ],
      "metadata": {
        "id": "YZ_vzGQBpgVG"
      }
    },
    {
      "cell_type": "code",
      "source": [
        "from google.colab import drive\n",
        "drive.mount('/content/gdrive')"
      ],
      "metadata": {
        "colab": {
          "base_uri": "https://localhost:8080/"
        },
        "id": "xg_zgNVipd5W",
        "outputId": "f6d989cf-2167-4462-e7e6-236a5b5c7a0f"
      },
      "execution_count": 2,
      "outputs": [
        {
          "output_type": "stream",
          "name": "stdout",
          "text": [
            "Mounted at /content/gdrive\n"
          ]
        }
      ]
    },
    {
      "cell_type": "code",
      "source": [
        "data = np.load('/content/gdrive/My Drive/Xeye_dataset/TrivialMultiClassification.npz')\n",
        "data.files"
      ],
      "metadata": {
        "colab": {
          "base_uri": "https://localhost:8080/"
        },
        "id": "t_NQbrdhqHmR",
        "outputId": "1f34628e-b8e4-4292-88d4-1b62ab7112a5"
      },
      "execution_count": 3,
      "outputs": [
        {
          "output_type": "execute_result",
          "data": {
            "text/plain": [
              "['X_train', 'X_test', 'y_train', 'y_test']"
            ]
          },
          "metadata": {},
          "execution_count": 3
        }
      ]
    },
    {
      "cell_type": "code",
      "source": [
        "X_train = data['X_train']\n",
        "X_test = data['X_test']\n",
        "y_train = data['y_train']\n",
        "y_test = data['y_test']\n",
        "# Dataset dimensions (num of images, height, width, num.channel)\n",
        "print(f'X_train dataset shape: {X_train.shape}')\n",
        "print(f'X_test dataset shape: {X_test.shape}')\n",
        "# Labels \n",
        "print(y_train.shape)\n",
        "print(y_test.shape)"
      ],
      "metadata": {
        "colab": {
          "base_uri": "https://localhost:8080/"
        },
        "id": "Ba0Cq_AfqTuY",
        "outputId": "0cc08f02-8564-4ebc-bc10-d9ab1c2a043d"
      },
      "execution_count": 5,
      "outputs": [
        {
          "output_type": "stream",
          "name": "stdout",
          "text": [
            "X_train dataset shape: (2250, 100, 100, 3)\n",
            "X_test dataset shape: (750, 100, 100, 3)\n",
            "(2250,)\n",
            "(750,)\n"
          ]
        }
      ]
    },
    {
      "cell_type": "markdown",
      "source": [
        "### Visualize a batch of images from the training dataset"
      ],
      "metadata": {
        "id": "Uq30WmLXsLCr"
      }
    },
    {
      "cell_type": "code",
      "source": [],
      "metadata": {
        "id": "9nUCwaaqqetA"
      },
      "execution_count": null,
      "outputs": []
    }
  ]
}